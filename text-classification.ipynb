{
 "cells": [
  {
   "cell_type": "markdown",
   "metadata": {},
   "source": [
    "## Filling the missing NA of primary genres"
   ]
  },
  {
   "cell_type": "code",
   "execution_count": 1,
   "metadata": {},
   "outputs": [],
   "source": [
    "import pandas as pd\n",
    "\n",
    "shows = pd.read_csv('shows_cleaned.csv')"
   ]
  },
  {
   "cell_type": "code",
   "execution_count": 2,
   "metadata": {},
   "outputs": [
    {
     "data": {
      "application/vnd.microsoft.datawrangler.viewer.v0+json": {
       "columns": [
        {
         "name": "index",
         "rawType": "int64",
         "type": "integer"
        },
        {
         "name": "genre_list",
         "rawType": "object",
         "type": "string"
        },
        {
         "name": "count",
         "rawType": "int64",
         "type": "integer"
        }
       ],
       "conversionMethod": "pd.DataFrame",
       "ref": "401cfcfe-16f1-4f5b-bdf9-0e87a99e3043",
       "rows": [
        [
         "0",
         "[]",
         "67024"
        ],
        [
         "1",
         "['Documentary']",
         "17490"
        ],
        [
         "2",
         "['Drama']",
         "16114"
        ],
        [
         "3",
         "['Comedy']",
         "10194"
        ],
        [
         "4",
         "['Reality']",
         "7953"
        ],
        [
         "5",
         "['Animation']",
         "2506"
        ],
        [
         "6",
         "['Comedy', 'Drama']",
         "1918"
        ],
        [
         "7",
         "['Drama', 'Comedy']",
         "1869"
        ],
        [
         "8",
         "['Talk']",
         "1856"
        ],
        [
         "9",
         "['Animation', 'Comedy']",
         "1211"
        ],
        [
         "10",
         "['Crime']",
         "1023"
        ],
        [
         "11",
         "['News']",
         "1014"
        ],
        [
         "12",
         "['Crime', 'Drama']",
         "978"
        ],
        [
         "13",
         "['Family']",
         "973"
        ],
        [
         "14",
         "['Drama', 'Crime']",
         "920"
        ],
        [
         "15",
         "['Animation', 'Kids']",
         "897"
        ],
        [
         "16",
         "['Drama', 'Family']",
         "877"
        ],
        [
         "17",
         "['Kids']",
         "819"
        ],
        [
         "18",
         "['Drama', 'Mystery']",
         "767"
        ],
        [
         "19",
         "['Documentary', 'Reality']",
         "755"
        ],
        [
         "20",
         "['Action & Adventure']",
         "717"
        ],
        [
         "21",
         "['Documentary', 'Crime']",
         "676"
        ],
        [
         "22",
         "['Mystery']",
         "629"
        ],
        [
         "23",
         "['Comedy', 'Family']",
         "554"
        ],
        [
         "24",
         "['Soap', 'Drama']",
         "512"
        ],
        [
         "25",
         "['Sci-Fi & Fantasy']",
         "507"
        ],
        [
         "26",
         "['Drama', 'Soap']",
         "489"
        ],
        [
         "27",
         "['Action & Adventure', 'Drama']",
         "478"
        ],
        [
         "28",
         "['Drama', 'War & Politics']",
         "461"
        ],
        [
         "29",
         "['Drama', 'Sci-Fi & Fantasy']",
         "458"
        ],
        [
         "30",
         "['Reality', 'Documentary']",
         "442"
        ],
        [
         "31",
         "['Soap']",
         "388"
        ],
        [
         "32",
         "['Animation', 'Action & Adventure', 'Sci-Fi & Fantasy']",
         "376"
        ],
        [
         "33",
         "['Family', 'Drama']",
         "376"
        ],
        [
         "34",
         "['Drama', 'Action & Adventure']",
         "373"
        ],
        [
         "35",
         "['Mystery', 'Drama']",
         "362"
        ],
        [
         "36",
         "['Kids', 'Animation']",
         "355"
        ],
        [
         "37",
         "['Animation', 'Action & Adventure']",
         "351"
        ],
        [
         "38",
         "['Documentary', 'War & Politics']",
         "349"
        ],
        [
         "39",
         "['Crime', 'Drama', 'Mystery']",
         "311"
        ],
        [
         "40",
         "['Animation', 'Sci-Fi & Fantasy']",
         "298"
        ],
        [
         "41",
         "['Family', 'Comedy']",
         "283"
        ],
        [
         "42",
         "['Sci-Fi & Fantasy', 'Drama']",
         "280"
        ],
        [
         "43",
         "['Comedy', 'Animation']",
         "261"
        ],
        [
         "44",
         "['Comedy', 'Talk']",
         "259"
        ],
        [
         "45",
         "['Crime', 'Mystery']",
         "249"
        ],
        [
         "46",
         "['Reality', 'Comedy']",
         "231"
        ],
        [
         "47",
         "['Animation', 'Drama']",
         "226"
        ],
        [
         "48",
         "['Crime', 'Documentary']",
         "222"
        ],
        [
         "49",
         "['Comedy', 'Reality']",
         "222"
        ]
       ],
       "shape": {
        "columns": 2,
        "rows": 2215
       }
      },
      "text/html": [
       "<div>\n",
       "<style scoped>\n",
       "    .dataframe tbody tr th:only-of-type {\n",
       "        vertical-align: middle;\n",
       "    }\n",
       "\n",
       "    .dataframe tbody tr th {\n",
       "        vertical-align: top;\n",
       "    }\n",
       "\n",
       "    .dataframe thead th {\n",
       "        text-align: right;\n",
       "    }\n",
       "</style>\n",
       "<table border=\"1\" class=\"dataframe\">\n",
       "  <thead>\n",
       "    <tr style=\"text-align: right;\">\n",
       "      <th></th>\n",
       "      <th>genre_list</th>\n",
       "      <th>count</th>\n",
       "    </tr>\n",
       "  </thead>\n",
       "  <tbody>\n",
       "    <tr>\n",
       "      <th>0</th>\n",
       "      <td>[]</td>\n",
       "      <td>67024</td>\n",
       "    </tr>\n",
       "    <tr>\n",
       "      <th>1</th>\n",
       "      <td>['Documentary']</td>\n",
       "      <td>17490</td>\n",
       "    </tr>\n",
       "    <tr>\n",
       "      <th>2</th>\n",
       "      <td>['Drama']</td>\n",
       "      <td>16114</td>\n",
       "    </tr>\n",
       "    <tr>\n",
       "      <th>3</th>\n",
       "      <td>['Comedy']</td>\n",
       "      <td>10194</td>\n",
       "    </tr>\n",
       "    <tr>\n",
       "      <th>4</th>\n",
       "      <td>['Reality']</td>\n",
       "      <td>7953</td>\n",
       "    </tr>\n",
       "    <tr>\n",
       "      <th>...</th>\n",
       "      <td>...</td>\n",
       "      <td>...</td>\n",
       "    </tr>\n",
       "    <tr>\n",
       "      <th>2210</th>\n",
       "      <td>['Animation', 'Animation', 'Mystery', 'Crime']</td>\n",
       "      <td>1</td>\n",
       "    </tr>\n",
       "    <tr>\n",
       "      <th>2211</th>\n",
       "      <td>['Animation', 'Action &amp; Adventure', 'Comedy', ...</td>\n",
       "      <td>1</td>\n",
       "    </tr>\n",
       "    <tr>\n",
       "      <th>2212</th>\n",
       "      <td>['Family', 'Kids', 'Animation', 'Mystery']</td>\n",
       "      <td>1</td>\n",
       "    </tr>\n",
       "    <tr>\n",
       "      <th>2213</th>\n",
       "      <td>['Kids', 'News', 'Talk']</td>\n",
       "      <td>1</td>\n",
       "    </tr>\n",
       "    <tr>\n",
       "      <th>2214</th>\n",
       "      <td>['Comedy', 'Documentary', 'Sci-Fi &amp; Fantasy', ...</td>\n",
       "      <td>1</td>\n",
       "    </tr>\n",
       "  </tbody>\n",
       "</table>\n",
       "<p>2215 rows × 2 columns</p>\n",
       "</div>"
      ],
      "text/plain": [
       "                                             genre_list  count\n",
       "0                                                    []  67024\n",
       "1                                       ['Documentary']  17490\n",
       "2                                             ['Drama']  16114\n",
       "3                                            ['Comedy']  10194\n",
       "4                                           ['Reality']   7953\n",
       "...                                                 ...    ...\n",
       "2210     ['Animation', 'Animation', 'Mystery', 'Crime']      1\n",
       "2211  ['Animation', 'Action & Adventure', 'Comedy', ...      1\n",
       "2212         ['Family', 'Kids', 'Animation', 'Mystery']      1\n",
       "2213                           ['Kids', 'News', 'Talk']      1\n",
       "2214  ['Comedy', 'Documentary', 'Sci-Fi & Fantasy', ...      1\n",
       "\n",
       "[2215 rows x 2 columns]"
      ]
     },
     "execution_count": 2,
     "metadata": {},
     "output_type": "execute_result"
    }
   ],
   "source": [
    "shows['genre_list'].value_counts().reset_index()"
   ]
  },
  {
   "cell_type": "code",
   "execution_count": 3,
   "metadata": {},
   "outputs": [
    {
     "data": {
      "text/plain": [
       "['Action & Adventure',\n",
       " 'Animation',\n",
       " 'Comedy',\n",
       " 'Crime',\n",
       " 'Documentary',\n",
       " 'Drama',\n",
       " 'Family',\n",
       " 'History',\n",
       " 'Kids',\n",
       " 'Music',\n",
       " 'Musical',\n",
       " 'Mystery',\n",
       " 'News',\n",
       " 'Reality',\n",
       " 'Romance',\n",
       " 'Sci-Fi & Fantasy',\n",
       " 'Soap',\n",
       " 'Talk',\n",
       " 'War & Politics',\n",
       " 'Western']"
      ]
     },
     "execution_count": 3,
     "metadata": {},
     "output_type": "execute_result"
    }
   ],
   "source": [
    "import ast\n",
    "unique_genres = set()\n",
    "\n",
    "for genres in shows['genre_list'].dropna():\n",
    "    if isinstance(genres, str):\n",
    "        genres = ast.literal_eval(genres)\n",
    "    unique_genres.update(genres)\n",
    "\n",
    "unique_genres_list = sorted(unique_genres)\n",
    "\n",
    "unique_genres_list"
   ]
  },
  {
   "cell_type": "code",
   "execution_count": 4,
   "metadata": {},
   "outputs": [
    {
     "name": "stderr",
     "output_type": "stream",
     "text": [
      "Device set to use cuda:0\n"
     ]
    }
   ],
   "source": [
    "from transformers import pipeline\n",
    "\n",
    "# load zero-shot classification model\n",
    "pipe = pipeline(\"zero-shot-classification\",\n",
    "                model='facebook/bart-large-mnli',\n",
    "                device=0)\n",
    "\n"
   ]
  },
  {
   "cell_type": "code",
   "execution_count": 5,
   "metadata": {},
   "outputs": [],
   "source": [
    "sequence = shows.loc[0, 'overview']"
   ]
  },
  {
   "cell_type": "code",
   "execution_count": 6,
   "metadata": {},
   "outputs": [
    {
     "data": {
      "text/plain": [
       "{'sequence': \"Seven noble families fight for control of the mythical land of Westeros. Friction between the houses leads to full-scale war. All while a very ancient evil awakens in the farthest north. Amidst the war, a neglected military order of misfits, the Night's Watch, is all that stands between the realms of men and icy horrors beyond.\",\n",
       " 'labels': ['Family',\n",
       "  'Sci-Fi & Fantasy',\n",
       "  'War & Politics',\n",
       "  'Drama',\n",
       "  'Action & Adventure',\n",
       "  'News',\n",
       "  'Talk',\n",
       "  'Mystery',\n",
       "  'History',\n",
       "  'Documentary',\n",
       "  'Crime',\n",
       "  'Reality',\n",
       "  'Music',\n",
       "  'Romance',\n",
       "  'Animation',\n",
       "  'Kids',\n",
       "  'Western',\n",
       "  'Musical',\n",
       "  'Comedy',\n",
       "  'Soap'],\n",
       " 'scores': [0.9313384890556335,\n",
       "  0.8475427031517029,\n",
       "  0.7952824234962463,\n",
       "  0.7031816244125366,\n",
       "  0.678015410900116,\n",
       "  0.35945776104927063,\n",
       "  0.3442034125328064,\n",
       "  0.33819881081581116,\n",
       "  0.2616749703884125,\n",
       "  0.21297438442707062,\n",
       "  0.16166891157627106,\n",
       "  0.1436222642660141,\n",
       "  0.04792564734816551,\n",
       "  0.042587701231241226,\n",
       "  0.03838364779949188,\n",
       "  0.03138304501771927,\n",
       "  0.02897212840616703,\n",
       "  0.02614382840692997,\n",
       "  0.010280490852892399,\n",
       "  0.007091305684298277]}"
      ]
     },
     "execution_count": 6,
     "metadata": {},
     "output_type": "execute_result"
    }
   ],
   "source": [
    "pipe(sequence, unique_genres_list, multi_label=True)"
   ]
  },
  {
   "cell_type": "code",
   "execution_count": 7,
   "metadata": {},
   "outputs": [
    {
     "data": {
      "text/plain": [
       "'cuda'"
      ]
     },
     "execution_count": 7,
     "metadata": {},
     "output_type": "execute_result"
    }
   ],
   "source": [
    "import torch\n",
    "device = \"cuda\" if torch.cuda.is_available() else \"cpu\"\n",
    "device"
   ]
  },
  {
   "cell_type": "code",
   "execution_count": 8,
   "metadata": {},
   "outputs": [],
   "source": [
    "def generate_predictions(description, genre_list, threshold=0.75):\n",
    "\n",
    "    device = \"cuda\" if torch.cuda.is_available() else \"cpu\"\n",
    "    pipe.model.to(device)\n",
    "    \n",
    "    with torch.inference_mode(): \n",
    "        result = pipe(description, genre_list, multi_label=True)\n",
    "\n",
    "\n",
    "    predicted_genre = [label for label, score in zip(result['labels'], result['scores']) if score >= threshold]\n",
    "\n",
    "    if len(predicted_genre) > 3:\n",
    "        predicted_genre = predicted_genre[:3]\n",
    "\n",
    "    if not predicted_genre:\n",
    "        predicted_genre = [result['labels'][0]]\n",
    "\n",
    "    primary_genre = predicted_genre[0] if predicted_genre else None\n",
    "\n",
    "    return primary_genre, predicted_genre"
   ]
  },
  {
   "cell_type": "code",
   "execution_count": 9,
   "metadata": {},
   "outputs": [
    {
     "name": "stderr",
     "output_type": "stream",
     "text": [
      " 90%|█████████ | 9/10 [00:03<00:00,  2.84it/s]You seem to be using the pipelines sequentially on GPU. In order to maximize efficiency please use a dataset\n",
      "100%|██████████| 10/10 [00:03<00:00,  2.88it/s]\n"
     ]
    }
   ],
   "source": [
    "from tqdm import tqdm\n",
    "from sklearn.metrics import accuracy_score, precision_score, recall_score, f1_score\n",
    "\n",
    "# Generate Predictions\n",
    "actual_genres = []\n",
    "predicted_genres = []\n",
    "\n",
    "for i in tqdm(range(10)):  # Process first 1000 samples\n",
    "    sequence = shows['overview'].iloc[i]\n",
    "    primary_genre, predicted_genre = generate_predictions(sequence, unique_genres_list)\n",
    "    \n",
    "    actual_genres.append(shows['genre_list'].iloc[i])  # Actual genres\n",
    "    predicted_genres.append(predicted_genre)  # Predicted genres\n"
   ]
  },
  {
   "cell_type": "code",
   "execution_count": 10,
   "metadata": {},
   "outputs": [
    {
     "name": "stdout",
     "output_type": "stream",
     "text": [
      "Sample Predicted Genres: [['Family', 'Sci-Fi & Fantasy', 'War & Politics'], ['Mystery', 'Crime', 'Action & Adventure'], ['Mystery', 'Action & Adventure', 'Sci-Fi & Fantasy'], ['Family'], ['Crime'], ['Drama'], ['Kids'], ['Family'], ['Action & Adventure'], ['Sci-Fi & Fantasy']]\n",
      "Sample Actual Genres: [\"['Sci-Fi & Fantasy', 'Drama', 'Action & Adventure']\", \"['Crime', 'Drama']\", \"['Drama', 'Sci-Fi & Fantasy', 'Mystery']\", \"['Action & Adventure', 'Drama', 'Sci-Fi & Fantasy']\", \"['Crime', 'Sci-Fi & Fantasy']\", \"['Crime', 'Drama', 'Mystery']\", \"['Action & Adventure', 'Mystery', 'Drama']\", \"['Drama', 'Crime']\", \"['Drama']\", \"['Sci-Fi & Fantasy', 'Mystery', 'Drama']\"]\n"
     ]
    }
   ],
   "source": [
    "print(\"Sample Predicted Genres:\", predicted_genres[:10])  \n",
    "print(\"Sample Actual Genres:\", actual_genres[:10])"
   ]
  },
  {
   "cell_type": "code",
   "execution_count": 11,
   "metadata": {},
   "outputs": [
    {
     "data": {
      "text/plain": [
       "('Sci-Fi & Fantasy', ['Sci-Fi & Fantasy'])"
      ]
     },
     "execution_count": 11,
     "metadata": {},
     "output_type": "execute_result"
    }
   ],
   "source": [
    "generate_predictions(sequence, unique_genres_list)"
   ]
  },
  {
   "cell_type": "code",
   "execution_count": 12,
   "metadata": {},
   "outputs": [
    {
     "data": {
      "text/plain": [
       "'Wanda Maximoff and Vision—two super-powered beings living idealized suburban lives—begin to suspect that everything is not as it seems.'"
      ]
     },
     "execution_count": 12,
     "metadata": {},
     "output_type": "execute_result"
    }
   ],
   "source": [
    "sequence"
   ]
  },
  {
   "cell_type": "code",
   "execution_count": 13,
   "metadata": {},
   "outputs": [],
   "source": [
    "# shows['genre_list'] = shows['genre_list'].apply(lambda x: ast.literal_eval(x) if isinstance(x, str) else x)\n",
    "\n",
    "# missing_genres = (shows[\"primary_genre\"] == \"Unknown\") & (shows['genre_list'].apply(lambda x: len(x) == 0))\n",
    "\n",
    "# shows.loc[missing_genres, [\"primary_genre\", 'genre_list']] = shows.loc[missing_genres, 'overview'].apply(\n",
    "#     lambda x: pd.Series(generate_predictions(x, unique_genres_list))\n",
    "# )\n",
    "\n",
    "# shows[['overview', 'primary_genre', 'genre_list']].head()"
   ]
  },
  {
   "cell_type": "code",
   "execution_count": 14,
   "metadata": {},
   "outputs": [
    {
     "data": {
      "text/plain": [
       "67024"
      ]
     },
     "execution_count": 14,
     "metadata": {},
     "output_type": "execute_result"
    }
   ],
   "source": [
    "import numpy as np\n",
    "import torch\n",
    "from tqdm import tqdm\n",
    "\n",
    "batch_size = 512\n",
    "\n",
    "# Get indices of missing genres\n",
    "missing_indices = shows.index[\n",
    "    (shows[\"primary_genre\"] == \"Unknown\") & \n",
    "    (shows['genre_list'].astype(str)==\"[]\")\n",
    "]\n",
    "\n",
    "# Convert to list for easier batching\n",
    "missing_overviews = shows.loc[missing_indices, \"overview\"].tolist()\n",
    "\n",
    "len(missing_indices)"
   ]
  },
  {
   "cell_type": "code",
   "execution_count": 17,
   "metadata": {},
   "outputs": [
    {
     "name": "stderr",
     "output_type": "stream",
     "text": [
      "Processing Batches: 100%|██████████| 131/131 [7:26:59<00:00, 204.73s/it]  "
     ]
    },
    {
     "name": "stdout",
     "output_type": "stream",
     "text": [
      "✅ Processing complete! Updated DataFrame successfully.\n"
     ]
    },
    {
     "name": "stderr",
     "output_type": "stream",
     "text": [
      "\n"
     ]
    }
   ],
   "source": [
    "\n",
    "# Store predictions\n",
    "predicted_genres_list = []\n",
    "primary_genres_list = []\n",
    "\n",
    "# Process in batches\n",
    "with torch.inference_mode(), torch.amp.autocast(\"cuda\"):\n",
    "    for i in tqdm(range(0, len(missing_overviews), batch_size), desc=\"Processing Batches\"):\n",
    "        batch = missing_overviews[i : i + batch_size]\n",
    "\n",
    "        # Get predictions in batch\n",
    "        batch_results = [generate_predictions(desc, unique_genres_list) for desc in batch]\n",
    "\n",
    "        # Separate predictions\n",
    "        batch_primary_genres, batch_predicted_genres = zip(*batch_results)\n",
    "\n",
    "        predicted_genres_list.extend(batch_predicted_genres)\n",
    "        primary_genres_list.extend(batch_primary_genres)\n",
    "\n",
    "# Convert results to a DataFrame\n",
    "results_df = pd.DataFrame({\n",
    "    \"genre_list\": predicted_genres_list,\n",
    "    \"primary_genre\": primary_genres_list\n",
    "}, index=missing_indices)\n",
    "\n",
    "# Update original DataFrame\n",
    "shows.update(results_df)\n",
    "\n",
    "print(\"✅ Processing complete! Updated DataFrame successfully.\")"
   ]
  },
  {
   "cell_type": "code",
   "execution_count": 19,
   "metadata": {},
   "outputs": [],
   "source": [
    "shows.to_csv(\"shows_with_genre_list.csv\", index=False)"
   ]
  },
  {
   "cell_type": "code",
   "execution_count": null,
   "metadata": {},
   "outputs": [],
   "source": []
  }
 ],
 "metadata": {
  "kernelspec": {
   "display_name": "Python 3",
   "language": "python",
   "name": "python3"
  },
  "language_info": {
   "codemirror_mode": {
    "name": "ipython",
    "version": 3
   },
   "file_extension": ".py",
   "mimetype": "text/x-python",
   "name": "python",
   "nbconvert_exporter": "python",
   "pygments_lexer": "ipython3",
   "version": "3.13.2"
  }
 },
 "nbformat": 4,
 "nbformat_minor": 2
}
