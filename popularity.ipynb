{
 "cells": [
  {
   "cell_type": "code",
   "execution_count": 2,
   "metadata": {},
   "outputs": [],
   "source": [
    "import pandas as pd \n",
    "\n",
    "shows = pd.read_csv('shows_with_emotions.csv')"
   ]
  },
  {
   "cell_type": "code",
   "execution_count": 3,
   "metadata": {},
   "outputs": [
    {
     "data": {
      "application/vnd.microsoft.datawrangler.viewer.v0+json": {
       "columns": [
        {
         "name": "index",
         "rawType": "int64",
         "type": "integer"
        },
        {
         "name": "id",
         "rawType": "int64",
         "type": "integer"
        },
        {
         "name": "name",
         "rawType": "object",
         "type": "string"
        },
        {
         "name": "number_of_seasons",
         "rawType": "int64",
         "type": "integer"
        },
        {
         "name": "number_of_episodes",
         "rawType": "int64",
         "type": "integer"
        },
        {
         "name": "original_language",
         "rawType": "object",
         "type": "string"
        },
        {
         "name": "vote_count",
         "rawType": "int64",
         "type": "integer"
        },
        {
         "name": "vote_average",
         "rawType": "float64",
         "type": "float"
        },
        {
         "name": "overview",
         "rawType": "object",
         "type": "string"
        },
        {
         "name": "backdrop_path",
         "rawType": "object",
         "type": "string"
        },
        {
         "name": "first_air_date",
         "rawType": "object",
         "type": "string"
        },
        {
         "name": "last_air_date",
         "rawType": "object",
         "type": "string"
        },
        {
         "name": "homepage",
         "rawType": "object",
         "type": "string"
        },
        {
         "name": "original_name",
         "rawType": "object",
         "type": "string"
        },
        {
         "name": "popularity",
         "rawType": "float64",
         "type": "float"
        },
        {
         "name": "poster_path",
         "rawType": "object",
         "type": "string"
        },
        {
         "name": "status",
         "rawType": "object",
         "type": "string"
        },
        {
         "name": "genres",
         "rawType": "object",
         "type": "string"
        },
        {
         "name": "created_by",
         "rawType": "object",
         "type": "string"
        },
        {
         "name": "languages",
         "rawType": "object",
         "type": "string"
        },
        {
         "name": "networks",
         "rawType": "object",
         "type": "string"
        },
        {
         "name": "primary_genre",
         "rawType": "object",
         "type": "string"
        },
        {
         "name": "genre_list",
         "rawType": "object",
         "type": "string"
        },
        {
         "name": "title_and_tagline",
         "rawType": "object",
         "type": "string"
        },
        {
         "name": "tagged_description",
         "rawType": "object",
         "type": "string"
        },
        {
         "name": "anger",
         "rawType": "float64",
         "type": "float"
        },
        {
         "name": "disgust",
         "rawType": "float64",
         "type": "float"
        },
        {
         "name": "fear",
         "rawType": "float64",
         "type": "float"
        },
        {
         "name": "joy",
         "rawType": "float64",
         "type": "float"
        },
        {
         "name": "sadness",
         "rawType": "float64",
         "type": "float"
        },
        {
         "name": "surprise",
         "rawType": "float64",
         "type": "float"
        },
        {
         "name": "neutral",
         "rawType": "float64",
         "type": "float"
        }
       ],
       "conversionMethod": "pd.DataFrame",
       "ref": "7a100387-f63f-4bd8-a062-391b6c903b5e",
       "rows": [
        [
         "0",
         "1399",
         "Game of Thrones",
         "8",
         "73",
         "en",
         "21857",
         "8.442",
         "Seven noble families fight for control of the mythical land of Westeros. Friction between the houses leads to full-scale war. All while a very ancient evil awakens in the farthest north. Amidst the war, a neglected military order of misfits, the Night's Watch, is all that stands between the realms of men and icy horrors beyond.",
         "/2OMB0ynKlyIenMJWI2Dy9IWT4c.jpg",
         "2011-04-17",
         "2019-05-19",
         "http://www.hbo.com/game-of-thrones",
         "Game of Thrones",
         "1083.917",
         "/1XS1oqL89opfnbLl8WnZY1O1uJx.jpg",
         "Ended",
         "Sci-Fi & Fantasy, Drama, Action & Adventure",
         "David Benioff, D.B. Weiss",
         "en",
         "HBO",
         "Sci-Fi & Fantasy",
         "['Sci-Fi & Fantasy', 'Drama', 'Action & Adventure']",
         "Game of Thrones: Winter Is Coming",
         "1399 Seven noble families fight for control of the mythical land of Westeros. Friction between the houses leads to full-scale war. All while a very ancient evil awakens in the farthest north. Amidst the war, a neglected military order of misfits, the Night's Watch, is all that stands between the realms of men and icy horrors beyond.",
         "0.3126013576984405",
         "0.1689979285001754",
         "0.711215078830719",
         "0.0655115097761154",
         "0.5494765043258667",
         "0.1116902157664299",
         "0.0787655487656593"
        ],
        [
         "1",
         "71446",
         "Money Heist",
         "3",
         "41",
         "es",
         "17836",
         "8.257",
         "To carry out the biggest heist in history, a mysterious man called The Professor recruits a band of eight robbers who have a single characteristic: none of them has anything to lose. Five months of seclusion - memorizing every step, every detail, every probability - culminate in eleven days locked up in the National Coinage and Stamp Factory of Spain, surrounded by police forces and with dozens of hostages in their power, to find out whether their suicide wager will lead to everything or nothing.",
         "/gFZriCkpJYsApPZEF3jhxL4yLzG.jpg",
         "2017-05-02",
         "2021-12-03",
         "https://www.netflix.com/title/80192098",
         "La Casa de Papel",
         "96.354",
         "/reEMJA1uzscCbkpeRJeTT2bjqUp.jpg",
         "Ended",
         "Crime, Drama",
         "Álex Pina",
         "es",
         "Netflix, Antena 3",
         "Crime",
         "['Crime', 'Drama']",
         "Money Heist: The perfect robbery.",
         "71446 To carry out the biggest heist in history, a mysterious man called The Professor recruits a band of eight robbers who have a single characteristic: none of them has anything to lose. Five months of seclusion - memorizing every step, every detail, every probability - culminate in eleven days locked up in the National Coinage and Stamp Factory of Spain, surrounded by police forces and with dozens of hostages in their power, to find out whether their suicide wager will lead to everything or nothing.",
         "0.151468276977539",
         "0.1040067076683044",
         "0.4502623379230499",
         "0.0405644327402114",
         "0.5494765043258667",
         "0.1116902157664299",
         "0.1935654431581497"
        ],
        [
         "2",
         "66732",
         "Stranger Things",
         "4",
         "34",
         "en",
         "16161",
         "8.624",
         "When a young boy vanishes, a small town uncovers a mystery involving secret experiments, terrifying supernatural forces, and one strange little girl.",
         "/2MaumbgBlW1NoPo3ZJO38A6v7OS.jpg",
         "2016-07-15",
         "2022-07-01",
         "https://www.netflix.com/title/80057281",
         "Stranger Things",
         "185.711",
         "/49WJfeN0moxb9IPfGn8AIqMGskD.jpg",
         "Returning Series",
         "Drama, Sci-Fi & Fantasy, Mystery",
         "Matt Duffer, Ross Duffer",
         "en",
         "Netflix",
         "Drama",
         "['Drama', 'Sci-Fi & Fantasy', 'Mystery']",
         "Stranger Things: Every ending has a beginning.",
         "66732 When a young boy vanishes, a small town uncovers a mystery involving secret experiments, terrifying supernatural forces, and one strange little girl.",
         "0.0641336739063263",
         "0.1040067076683044",
         "0.9395633935928344",
         "0.0405644327402114",
         "0.5494765043258667",
         "0.1116902157664299",
         "0.0787655487656593"
        ],
        [
         "3",
         "1402",
         "The Walking Dead",
         "11",
         "177",
         "en",
         "15432",
         "8.121",
         "Sheriff's deputy Rick Grimes awakens from a coma to find a post-apocalyptic world dominated by flesh-eating zombies. He sets out to find his family and encounters many other survivors along the way.",
         "/x4salpjB11umlUOltfNvSSrjSXm.jpg",
         "2010-10-31",
         "2022-11-20",
         "http://www.amc.com/shows/the-walking-dead--1002293",
         "The Walking Dead",
         "489.746",
         "/n7PVu0hSz2sAsVekpOIoCnkWlbn.jpg",
         "Ended",
         "Action & Adventure, Drama, Sci-Fi & Fantasy",
         "Frank Darabont",
         "en",
         "AMC",
         "Action & Adventure",
         "['Action & Adventure', 'Drama', 'Sci-Fi & Fantasy']",
         "The Walking Dead: Fight the dead. Fear the living.",
         "1402 Sheriff's deputy Rick Grimes awakens from a coma to find a post-apocalyptic world dominated by flesh-eating zombies. He sets out to find his family and encounters many other survivors along the way.",
         "0.0641336739063263",
         "0.2494977265596389",
         "0.4188306629657745",
         "0.0532720610499382",
         "0.7904933094978333",
         "0.1116902157664299",
         "0.0787655487656593"
        ],
        [
         "4",
         "63174",
         "Lucifer",
         "6",
         "93",
         "en",
         "13870",
         "8.486",
         "Bored and unhappy as the Lord of Hell, Lucifer Morningstar abandoned his throne and retired to Los Angeles, where he has teamed up with LAPD detective Chloe Decker to take down criminals. But the longer he's away from the underworld, the greater the threat that the worst of humanity could escape.",
         "/aDBRtunw49UF4XmqfyNuD9nlYIu.jpg",
         "2016-01-25",
         "2021-09-10",
         "https://www.netflix.com/title/80057918",
         "Lucifer",
         "416.668",
         "/ekZobS8isE6mA53RAiGDG93hBxL.jpg",
         "Ended",
         "Crime, Sci-Fi & Fantasy",
         "Tom Kapinos",
         "en",
         "FOX, Netflix",
         "Crime",
         "['Crime', 'Sci-Fi & Fantasy']",
         "Lucifer: It's good to be bad.",
         "63174 Bored and unhappy as the Lord of Hell, Lucifer Morningstar abandoned his throne and retired to Los Angeles, where he has teamed up with LAPD detective Chloe Decker to take down criminals. But the longer he's away from the underworld, the greater the threat that the worst of humanity could escape.",
         "0.0641336739063263",
         "0.4800187945365906",
         "0.384543240070343",
         "0.0405644327402114",
         "0.5494765043258667",
         "0.947754681110382",
         "0.0787655487656593"
        ]
       ],
       "shape": {
        "columns": 31,
        "rows": 5
       }
      },
      "text/html": [
       "<div>\n",
       "<style scoped>\n",
       "    .dataframe tbody tr th:only-of-type {\n",
       "        vertical-align: middle;\n",
       "    }\n",
       "\n",
       "    .dataframe tbody tr th {\n",
       "        vertical-align: top;\n",
       "    }\n",
       "\n",
       "    .dataframe thead th {\n",
       "        text-align: right;\n",
       "    }\n",
       "</style>\n",
       "<table border=\"1\" class=\"dataframe\">\n",
       "  <thead>\n",
       "    <tr style=\"text-align: right;\">\n",
       "      <th></th>\n",
       "      <th>id</th>\n",
       "      <th>name</th>\n",
       "      <th>number_of_seasons</th>\n",
       "      <th>number_of_episodes</th>\n",
       "      <th>original_language</th>\n",
       "      <th>vote_count</th>\n",
       "      <th>vote_average</th>\n",
       "      <th>overview</th>\n",
       "      <th>backdrop_path</th>\n",
       "      <th>first_air_date</th>\n",
       "      <th>...</th>\n",
       "      <th>genre_list</th>\n",
       "      <th>title_and_tagline</th>\n",
       "      <th>tagged_description</th>\n",
       "      <th>anger</th>\n",
       "      <th>disgust</th>\n",
       "      <th>fear</th>\n",
       "      <th>joy</th>\n",
       "      <th>sadness</th>\n",
       "      <th>surprise</th>\n",
       "      <th>neutral</th>\n",
       "    </tr>\n",
       "  </thead>\n",
       "  <tbody>\n",
       "    <tr>\n",
       "      <th>0</th>\n",
       "      <td>1399</td>\n",
       "      <td>Game of Thrones</td>\n",
       "      <td>8</td>\n",
       "      <td>73</td>\n",
       "      <td>en</td>\n",
       "      <td>21857</td>\n",
       "      <td>8.442</td>\n",
       "      <td>Seven noble families fight for control of the ...</td>\n",
       "      <td>/2OMB0ynKlyIenMJWI2Dy9IWT4c.jpg</td>\n",
       "      <td>2011-04-17</td>\n",
       "      <td>...</td>\n",
       "      <td>['Sci-Fi &amp; Fantasy', 'Drama', 'Action &amp; Advent...</td>\n",
       "      <td>Game of Thrones: Winter Is Coming</td>\n",
       "      <td>1399 Seven noble families fight for control of...</td>\n",
       "      <td>0.312601</td>\n",
       "      <td>0.168998</td>\n",
       "      <td>0.711215</td>\n",
       "      <td>0.065512</td>\n",
       "      <td>0.549477</td>\n",
       "      <td>0.111690</td>\n",
       "      <td>0.078766</td>\n",
       "    </tr>\n",
       "    <tr>\n",
       "      <th>1</th>\n",
       "      <td>71446</td>\n",
       "      <td>Money Heist</td>\n",
       "      <td>3</td>\n",
       "      <td>41</td>\n",
       "      <td>es</td>\n",
       "      <td>17836</td>\n",
       "      <td>8.257</td>\n",
       "      <td>To carry out the biggest heist in history, a m...</td>\n",
       "      <td>/gFZriCkpJYsApPZEF3jhxL4yLzG.jpg</td>\n",
       "      <td>2017-05-02</td>\n",
       "      <td>...</td>\n",
       "      <td>['Crime', 'Drama']</td>\n",
       "      <td>Money Heist: The perfect robbery.</td>\n",
       "      <td>71446 To carry out the biggest heist in histor...</td>\n",
       "      <td>0.151468</td>\n",
       "      <td>0.104007</td>\n",
       "      <td>0.450262</td>\n",
       "      <td>0.040564</td>\n",
       "      <td>0.549477</td>\n",
       "      <td>0.111690</td>\n",
       "      <td>0.193565</td>\n",
       "    </tr>\n",
       "    <tr>\n",
       "      <th>2</th>\n",
       "      <td>66732</td>\n",
       "      <td>Stranger Things</td>\n",
       "      <td>4</td>\n",
       "      <td>34</td>\n",
       "      <td>en</td>\n",
       "      <td>16161</td>\n",
       "      <td>8.624</td>\n",
       "      <td>When a young boy vanishes, a small town uncove...</td>\n",
       "      <td>/2MaumbgBlW1NoPo3ZJO38A6v7OS.jpg</td>\n",
       "      <td>2016-07-15</td>\n",
       "      <td>...</td>\n",
       "      <td>['Drama', 'Sci-Fi &amp; Fantasy', 'Mystery']</td>\n",
       "      <td>Stranger Things: Every ending has a beginning.</td>\n",
       "      <td>66732 When a young boy vanishes, a small town ...</td>\n",
       "      <td>0.064134</td>\n",
       "      <td>0.104007</td>\n",
       "      <td>0.939563</td>\n",
       "      <td>0.040564</td>\n",
       "      <td>0.549477</td>\n",
       "      <td>0.111690</td>\n",
       "      <td>0.078766</td>\n",
       "    </tr>\n",
       "    <tr>\n",
       "      <th>3</th>\n",
       "      <td>1402</td>\n",
       "      <td>The Walking Dead</td>\n",
       "      <td>11</td>\n",
       "      <td>177</td>\n",
       "      <td>en</td>\n",
       "      <td>15432</td>\n",
       "      <td>8.121</td>\n",
       "      <td>Sheriff's deputy Rick Grimes awakens from a co...</td>\n",
       "      <td>/x4salpjB11umlUOltfNvSSrjSXm.jpg</td>\n",
       "      <td>2010-10-31</td>\n",
       "      <td>...</td>\n",
       "      <td>['Action &amp; Adventure', 'Drama', 'Sci-Fi &amp; Fant...</td>\n",
       "      <td>The Walking Dead: Fight the dead. Fear the liv...</td>\n",
       "      <td>1402 Sheriff's deputy Rick Grimes awakens from...</td>\n",
       "      <td>0.064134</td>\n",
       "      <td>0.249498</td>\n",
       "      <td>0.418831</td>\n",
       "      <td>0.053272</td>\n",
       "      <td>0.790493</td>\n",
       "      <td>0.111690</td>\n",
       "      <td>0.078766</td>\n",
       "    </tr>\n",
       "    <tr>\n",
       "      <th>4</th>\n",
       "      <td>63174</td>\n",
       "      <td>Lucifer</td>\n",
       "      <td>6</td>\n",
       "      <td>93</td>\n",
       "      <td>en</td>\n",
       "      <td>13870</td>\n",
       "      <td>8.486</td>\n",
       "      <td>Bored and unhappy as the Lord of Hell, Lucifer...</td>\n",
       "      <td>/aDBRtunw49UF4XmqfyNuD9nlYIu.jpg</td>\n",
       "      <td>2016-01-25</td>\n",
       "      <td>...</td>\n",
       "      <td>['Crime', 'Sci-Fi &amp; Fantasy']</td>\n",
       "      <td>Lucifer: It's good to be bad.</td>\n",
       "      <td>63174 Bored and unhappy as the Lord of Hell, L...</td>\n",
       "      <td>0.064134</td>\n",
       "      <td>0.480019</td>\n",
       "      <td>0.384543</td>\n",
       "      <td>0.040564</td>\n",
       "      <td>0.549477</td>\n",
       "      <td>0.947755</td>\n",
       "      <td>0.078766</td>\n",
       "    </tr>\n",
       "  </tbody>\n",
       "</table>\n",
       "<p>5 rows × 31 columns</p>\n",
       "</div>"
      ],
      "text/plain": [
       "      id              name  number_of_seasons  number_of_episodes  \\\n",
       "0   1399   Game of Thrones                  8                  73   \n",
       "1  71446       Money Heist                  3                  41   \n",
       "2  66732   Stranger Things                  4                  34   \n",
       "3   1402  The Walking Dead                 11                 177   \n",
       "4  63174           Lucifer                  6                  93   \n",
       "\n",
       "  original_language  vote_count  vote_average  \\\n",
       "0                en       21857         8.442   \n",
       "1                es       17836         8.257   \n",
       "2                en       16161         8.624   \n",
       "3                en       15432         8.121   \n",
       "4                en       13870         8.486   \n",
       "\n",
       "                                            overview  \\\n",
       "0  Seven noble families fight for control of the ...   \n",
       "1  To carry out the biggest heist in history, a m...   \n",
       "2  When a young boy vanishes, a small town uncove...   \n",
       "3  Sheriff's deputy Rick Grimes awakens from a co...   \n",
       "4  Bored and unhappy as the Lord of Hell, Lucifer...   \n",
       "\n",
       "                      backdrop_path first_air_date  ...  \\\n",
       "0   /2OMB0ynKlyIenMJWI2Dy9IWT4c.jpg     2011-04-17  ...   \n",
       "1  /gFZriCkpJYsApPZEF3jhxL4yLzG.jpg     2017-05-02  ...   \n",
       "2  /2MaumbgBlW1NoPo3ZJO38A6v7OS.jpg     2016-07-15  ...   \n",
       "3  /x4salpjB11umlUOltfNvSSrjSXm.jpg     2010-10-31  ...   \n",
       "4  /aDBRtunw49UF4XmqfyNuD9nlYIu.jpg     2016-01-25  ...   \n",
       "\n",
       "                                          genre_list  \\\n",
       "0  ['Sci-Fi & Fantasy', 'Drama', 'Action & Advent...   \n",
       "1                                 ['Crime', 'Drama']   \n",
       "2           ['Drama', 'Sci-Fi & Fantasy', 'Mystery']   \n",
       "3  ['Action & Adventure', 'Drama', 'Sci-Fi & Fant...   \n",
       "4                      ['Crime', 'Sci-Fi & Fantasy']   \n",
       "\n",
       "                                   title_and_tagline  \\\n",
       "0                  Game of Thrones: Winter Is Coming   \n",
       "1                  Money Heist: The perfect robbery.   \n",
       "2     Stranger Things: Every ending has a beginning.   \n",
       "3  The Walking Dead: Fight the dead. Fear the liv...   \n",
       "4                      Lucifer: It's good to be bad.   \n",
       "\n",
       "                                  tagged_description     anger   disgust  \\\n",
       "0  1399 Seven noble families fight for control of...  0.312601  0.168998   \n",
       "1  71446 To carry out the biggest heist in histor...  0.151468  0.104007   \n",
       "2  66732 When a young boy vanishes, a small town ...  0.064134  0.104007   \n",
       "3  1402 Sheriff's deputy Rick Grimes awakens from...  0.064134  0.249498   \n",
       "4  63174 Bored and unhappy as the Lord of Hell, L...  0.064134  0.480019   \n",
       "\n",
       "       fear       joy   sadness  surprise   neutral  \n",
       "0  0.711215  0.065512  0.549477  0.111690  0.078766  \n",
       "1  0.450262  0.040564  0.549477  0.111690  0.193565  \n",
       "2  0.939563  0.040564  0.549477  0.111690  0.078766  \n",
       "3  0.418831  0.053272  0.790493  0.111690  0.078766  \n",
       "4  0.384543  0.040564  0.549477  0.947755  0.078766  \n",
       "\n",
       "[5 rows x 31 columns]"
      ]
     },
     "execution_count": 3,
     "metadata": {},
     "output_type": "execute_result"
    }
   ],
   "source": [
    "shows.head()"
   ]
  },
  {
   "cell_type": "code",
   "execution_count": 29,
   "metadata": {},
   "outputs": [],
   "source": [
    "# Adjusting m to a reasonable threshold (e.g., 50th percentile)\n",
    "m = shows['vote_count'].quantile(0.90)  \n",
    "C = shows['vote_average'].median()  \n",
    "\n",
    "def weighted_rating(row, m=m, C=C):\n",
    "    v = row['vote_count']  # Number of votes\n",
    "    R = row['vote_average']  # Average rating\n",
    "    \n",
    "    # If vote_count is 0, return median vote average (C)\n",
    "    if v == 0:\n",
    "        return C\n",
    "\n",
    "    # IMDb Bayesian estimate formula\n",
    "    return (v / (v + m) * R) + (m / (v + m) * C)\n",
    "\n",
    "# Apply weighted rating calculation\n",
    "shows['weighted_score'] = shows.apply(weighted_rating, axis=1)"
   ]
  },
  {
   "cell_type": "code",
   "execution_count": 30,
   "metadata": {},
   "outputs": [
    {
     "data": {
      "text/plain": [
       "5.0"
      ]
     },
     "execution_count": 30,
     "metadata": {},
     "output_type": "execute_result"
    }
   ],
   "source": [
    "m"
   ]
  },
  {
   "cell_type": "code",
   "execution_count": 31,
   "metadata": {},
   "outputs": [
    {
     "data": {
      "application/vnd.microsoft.datawrangler.viewer.v0+json": {
       "columns": [
        {
         "name": "index",
         "rawType": "int64",
         "type": "integer"
        },
        {
         "name": "name",
         "rawType": "object",
         "type": "unknown"
        },
        {
         "name": "vote_count",
         "rawType": "int64",
         "type": "integer"
        },
        {
         "name": "vote_average",
         "rawType": "float64",
         "type": "float"
        },
        {
         "name": "weighted_score",
         "rawType": "float64",
         "type": "float"
        }
       ],
       "conversionMethod": "pd.DataFrame",
       "ref": "b1f28464-8d31-4a38-9f32-7511a661848f",
       "rows": [
        [
         "0",
         "Game of Thrones",
         "21857",
         "8.442",
         "8.440069252584394"
        ],
        [
         "1",
         "Money Heist",
         "17836",
         "8.257",
         "8.25468594809708"
        ],
        [
         "2",
         "Stranger Things",
         "16161",
         "8.624",
         "8.62133267351231"
        ],
        [
         "3",
         "The Walking Dead",
         "15432",
         "8.121",
         "8.118369631405066"
        ],
        [
         "4",
         "Lucifer",
         "13870",
         "8.486",
         "8.482941981981982"
        ],
        [
         "5",
         "Riverdale",
         "13180",
         "8.479",
         "8.475784603716344"
        ],
        [
         "6",
         "Squid Game",
         "13053",
         "7.831",
         "7.828001455046715"
        ],
        [
         "7",
         "Breaking Bad",
         "12398",
         "8.89",
         "8.886416189631541"
        ],
        [
         "8",
         "The Good Doctor",
         "11768",
         "8.503",
         "8.499388770916504"
        ],
        [
         "9",
         "WandaVision",
         "11308",
         "8.3",
         "8.296331653849554"
        ],
        [
         "10",
         "The Flash",
         "10642",
         "7.797",
         "7.793338405184559"
        ],
        [
         "11",
         "The Big Bang Theory",
         "10322",
         "7.879",
         "7.875185242568025"
        ],
        [
         "12",
         "Loki",
         "10136",
         "8.2",
         "8.195957006212405"
        ],
        [
         "13",
         "Grey's Anatomy",
         "9512",
         "8.253",
         "8.248664074813492"
        ],
        [
         "14",
         "The Mandalorian",
         "9353",
         "8.5",
         "8.495458431288737"
        ],
        [
         "15",
         "The Simpsons",
         "9136",
         "7.999",
         "7.994624658133683"
        ],
        [
         "16",
         "Euphoria",
         "9008",
         "8.353",
         "8.348366137800953"
        ],
        [
         "17",
         "The Umbrella Academy",
         "8891",
         "8.604",
         "8.599164118705035"
        ],
        [
         "18",
         "Peaky Blinders",
         "8836",
         "8.546",
         "8.541166836330731"
        ],
        [
         "19",
         "Elite",
         "8817",
         "8.071",
         "8.066425640444344"
        ],
        [
         "20",
         "The Boys",
         "8721",
         "8.474",
         "8.469144396057759"
        ],
        [
         "21",
         "Rick and Morty",
         "8595",
         "8.7",
         "8.694941860465116"
        ],
        [
         "22",
         "The Vampire Diaries",
         "8356",
         "8.337",
         "8.332014352350196"
        ],
        [
         "23",
         "The Falcon and the Winter Soldier",
         "8008",
         "7.693",
         "7.688199675527268"
        ],
        [
         "24",
         "Naruto Shippūden",
         "7712",
         "8.6",
         "8.594427886484384"
        ],
        [
         "25",
         "The 100",
         "7666",
         "7.916",
         "7.9108403076521965"
        ],
        [
         "26",
         "Wednesday",
         "7506",
         "8.548",
         "8.542309679137265"
        ],
        [
         "27",
         "Friends",
         "7192",
         "8.444",
         "8.438133666805614"
        ],
        [
         "28",
         "Supernatural",
         "6909",
         "8.304",
         "8.297994793173272"
        ],
        [
         "29",
         "Sex Education",
         "6647",
         "8.304",
         "8.29775826819002"
        ],
        [
         "30",
         "Vikings",
         "6385",
         "8.086",
         "8.079672926447575"
        ],
        [
         "31",
         "Dark",
         "6049",
         "8.432",
         "8.425036009250084"
        ],
        [
         "32",
         "House",
         "5799",
         "8.595",
         "8.587595623707788"
        ],
        [
         "33",
         "Cobra Kai",
         "5734",
         "8.22",
         "8.212838473601673"
        ],
        [
         "34",
         "Demon Slayer: Kimetsu no Yaiba",
         "5618",
         "8.7",
         "8.692263916059042"
        ],
        [
         "35",
         "Arrow",
         "5569",
         "6.793",
         "6.78690653031934"
        ],
        [
         "36",
         "Attack on Titan",
         "5492",
         "8.657",
         "8.649125704929961"
        ],
        [
         "37",
         "Chernobyl",
         "5376",
         "8.649",
         "8.640963389704515"
        ],
        [
         "38",
         "American Horror Story",
         "5198",
         "8.145",
         "8.13717278493177"
        ],
        [
         "39",
         "Naruto",
         "5189",
         "8.36",
         "8.351952252599153"
        ],
        [
         "40",
         "The Witcher",
         "5159",
         "8.132",
         "8.124126258714174"
        ],
        [
         "41",
         "Rebelde",
         "5017",
         "8.433",
         "8.424603942652329"
        ],
        [
         "42",
         "Westworld",
         "4948",
         "8.075",
         "8.06684837472239"
        ],
        [
         "43",
         "The Act",
         "4899",
         "7.57",
         "7.562281810766721"
        ],
        [
         "44",
         "Sherlock",
         "4716",
         "8.537",
         "8.527958483372169"
        ],
        [
         "45",
         "The Seven Deadly Sins",
         "4710",
         "8.462",
         "8.453026511134677"
        ],
        [
         "46",
         "Dragon Ball Super",
         "4646",
         "8.208",
         "8.19917609116319"
        ],
        [
         "47",
         "Fear the Walking Dead",
         "4591",
         "7.693",
         "7.684630765883377"
        ],
        [
         "48",
         "Prison Break",
         "4508",
         "8.094",
         "8.085032572568135"
        ],
        [
         "49",
         "My Hero Academia",
         "4496",
         "8.673",
         "8.663365474339036"
        ]
       ],
       "shape": {
        "columns": 4,
        "rows": 173899
       }
      },
      "text/html": [
       "<div>\n",
       "<style scoped>\n",
       "    .dataframe tbody tr th:only-of-type {\n",
       "        vertical-align: middle;\n",
       "    }\n",
       "\n",
       "    .dataframe tbody tr th {\n",
       "        vertical-align: top;\n",
       "    }\n",
       "\n",
       "    .dataframe thead th {\n",
       "        text-align: right;\n",
       "    }\n",
       "</style>\n",
       "<table border=\"1\" class=\"dataframe\">\n",
       "  <thead>\n",
       "    <tr style=\"text-align: right;\">\n",
       "      <th></th>\n",
       "      <th>name</th>\n",
       "      <th>vote_count</th>\n",
       "      <th>vote_average</th>\n",
       "      <th>weighted_score</th>\n",
       "    </tr>\n",
       "  </thead>\n",
       "  <tbody>\n",
       "    <tr>\n",
       "      <th>0</th>\n",
       "      <td>Game of Thrones</td>\n",
       "      <td>21857</td>\n",
       "      <td>8.442</td>\n",
       "      <td>8.440069</td>\n",
       "    </tr>\n",
       "    <tr>\n",
       "      <th>1</th>\n",
       "      <td>Money Heist</td>\n",
       "      <td>17836</td>\n",
       "      <td>8.257</td>\n",
       "      <td>8.254686</td>\n",
       "    </tr>\n",
       "    <tr>\n",
       "      <th>2</th>\n",
       "      <td>Stranger Things</td>\n",
       "      <td>16161</td>\n",
       "      <td>8.624</td>\n",
       "      <td>8.621333</td>\n",
       "    </tr>\n",
       "    <tr>\n",
       "      <th>3</th>\n",
       "      <td>The Walking Dead</td>\n",
       "      <td>15432</td>\n",
       "      <td>8.121</td>\n",
       "      <td>8.118370</td>\n",
       "    </tr>\n",
       "    <tr>\n",
       "      <th>4</th>\n",
       "      <td>Lucifer</td>\n",
       "      <td>13870</td>\n",
       "      <td>8.486</td>\n",
       "      <td>8.482942</td>\n",
       "    </tr>\n",
       "    <tr>\n",
       "      <th>...</th>\n",
       "      <td>...</td>\n",
       "      <td>...</td>\n",
       "      <td>...</td>\n",
       "      <td>...</td>\n",
       "    </tr>\n",
       "    <tr>\n",
       "      <th>173894</th>\n",
       "      <td>女子大生危険なアルバイト</td>\n",
       "      <td>0</td>\n",
       "      <td>0.000</td>\n",
       "      <td>0.000000</td>\n",
       "    </tr>\n",
       "    <tr>\n",
       "      <th>173895</th>\n",
       "      <td>Welcome to My World</td>\n",
       "      <td>0</td>\n",
       "      <td>0.000</td>\n",
       "      <td>0.000000</td>\n",
       "    </tr>\n",
       "    <tr>\n",
       "      <th>173896</th>\n",
       "      <td>Welcome to My World</td>\n",
       "      <td>0</td>\n",
       "      <td>0.000</td>\n",
       "      <td>0.000000</td>\n",
       "    </tr>\n",
       "    <tr>\n",
       "      <th>173897</th>\n",
       "      <td>Welcome to My World</td>\n",
       "      <td>0</td>\n",
       "      <td>0.000</td>\n",
       "      <td>0.000000</td>\n",
       "    </tr>\n",
       "    <tr>\n",
       "      <th>173898</th>\n",
       "      <td>Welcome to My World</td>\n",
       "      <td>0</td>\n",
       "      <td>0.000</td>\n",
       "      <td>0.000000</td>\n",
       "    </tr>\n",
       "  </tbody>\n",
       "</table>\n",
       "<p>173899 rows × 4 columns</p>\n",
       "</div>"
      ],
      "text/plain": [
       "                       name  vote_count  vote_average  weighted_score\n",
       "0           Game of Thrones       21857         8.442        8.440069\n",
       "1               Money Heist       17836         8.257        8.254686\n",
       "2           Stranger Things       16161         8.624        8.621333\n",
       "3          The Walking Dead       15432         8.121        8.118370\n",
       "4                   Lucifer       13870         8.486        8.482942\n",
       "...                     ...         ...           ...             ...\n",
       "173894         女子大生危険なアルバイト           0         0.000        0.000000\n",
       "173895  Welcome to My World           0         0.000        0.000000\n",
       "173896  Welcome to My World           0         0.000        0.000000\n",
       "173897  Welcome to My World           0         0.000        0.000000\n",
       "173898  Welcome to My World           0         0.000        0.000000\n",
       "\n",
       "[173899 rows x 4 columns]"
      ]
     },
     "execution_count": 31,
     "metadata": {},
     "output_type": "execute_result"
    }
   ],
   "source": [
    "shows[['name', 'vote_count', 'vote_average', 'weighted_score']]"
   ]
  },
  {
   "cell_type": "code",
   "execution_count": 32,
   "metadata": {},
   "outputs": [],
   "source": [
    "shows.to_csv('shows_with_ratings.csv', index=False)"
   ]
  },
  {
   "cell_type": "code",
   "execution_count": null,
   "metadata": {},
   "outputs": [],
   "source": []
  }
 ],
 "metadata": {
  "kernelspec": {
   "display_name": "Python 3",
   "language": "python",
   "name": "python3"
  },
  "language_info": {
   "codemirror_mode": {
    "name": "ipython",
    "version": 3
   },
   "file_extension": ".py",
   "mimetype": "text/x-python",
   "name": "python",
   "nbconvert_exporter": "python",
   "pygments_lexer": "ipython3",
   "version": "3.13.2"
  }
 },
 "nbformat": 4,
 "nbformat_minor": 2
}
